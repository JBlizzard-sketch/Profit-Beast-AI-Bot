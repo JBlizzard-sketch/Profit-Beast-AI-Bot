{
  "cells": [
    {
      "cell_type": "markdown",
      "metadata": {},
      "source": [
        "<<<FILE: .env.example >>>\\n",
        "# AltTrade AI Bot (ProfitBeast Edition) .env.example\n# Copy to .env and fill in real values for production. Default mode is sandbox.\n\nENV_MODE=sandbox               # sandbox | live\nTELEGRAM_BOT_TOKEN=            # required\nADMIN_TELEGRAM_IDS=123456789   # comma-separated Telegram IDs with admin privileges\nDB_PATH=/mnt/data/alttrade.db\n\n# Exchange (CCXT) keys (live only)\nCCXT_EXCHANGE=binance\nCCXT_API_KEY=\nCCXT_API_SECRET=\nLIVE_MODE=false\n\n# LLM providers\nGROQ_API_KEY=                   # preferred LLM (free/your key)\nOPENAI_API_KEY=                 # optional fallback; included for future use\n\n# Payments (sandbox stubs unless configured)\nSTRIPE_API_KEY=\nMPESA_CONSUMER_KEY=\nMPESA_CONSUMER_SECRET=\nBINANCE_PAY_KEY=\n\n# Logger\nLOG_JSON=false\nLOG_LEVEL=INFO\n\n# App config\nTELEGRAM_POLLING=true\nTRIAL_DAYS=7\n"
      ]
    },
    {
      "cell_type": "markdown",
      "metadata": {},
      "source": [
        "<<<FILE: src/config.py >>>\\n",
        "import os\nfrom pathlib import Path\n\nROOT = Path(__file__).parent.parent\nENV_MODE = os.getenv(\"ENV_MODE\", \"sandbox\")\nTELEGRAM_TOKEN = os.getenv(\"TELEGRAM_BOT_TOKEN\", \"\")\nADMIN_TELEGRAM_IDS = [int(x.strip()) for x in os.getenv(\"ADMIN_TELEGRAM_IDS\",\"\").split(\",\") if x.strip().isdigit()]\nDB_PATH = os.getenv(\"DB_PATH\", \"/mnt/data/alttrade.db\")\nCCXT_EXCHANGE = os.getenv(\"CCXT_EXCHANGE\", \"binance\")\nLIVE_MODE = os.getenv(\"LIVE_MODE\", \"false\").lower() in (\"1\",\"true\",\"yes\")\nGROQ_API_KEY = os.getenv(\"GROQ_API_KEY\", \"\")\nOPENAI_API_KEY = os.getenv(\"OPENAI_API_KEY\", \"\")\nTRIAL_DAYS = int(os.getenv(\"TRIAL_DAYS\", \"7\"))\n\nLOG_JSON = os.getenv(\"LOG_JSON\",\"false\").lower() in (\"1\",\"true\",\"yes\")\nLOG_LEVEL = os.getenv(\"LOG_LEVEL\",\"INFO\")\nTELEGRAM_POLLING = os.getenv(\"TELEGRAM_POLLING\",\"true\").lower() in (\"1\",\"true\",\"yes\")\n"
      ]
    },
    {
      "cell_type": "markdown",
      "metadata": {},
      "source": [
        "<<<FILE: src/logger_setup.py >>>\\n",
        "import logging, sys, json\nfrom .config import LOG_JSON, LOG_LEVEL\n\ndef get_logger(name=__name__):\n    level = getattr(logging, LOG_LEVEL.upper(), logging.INFO)\n    logger = logging.getLogger(name)\n    if logger.handlers:\n        return logger\n    logger.setLevel(level)\n    handler = logging.StreamHandler(sys.stdout)\n    if LOG_JSON:\n        formatter = JsonFormatter()\n    else:\n        formatter = logging.Formatter('%(asctime)s - %(name)s - %(levelname)s - %(message)s')\n    handler.setFormatter(formatter)\n    logger.addHandler(handler)\n    return logger\n\nclass JsonFormatter(logging.Formatter):\n    def format(self, record):\n        data = {\n            \"time\": self.formatTime(record, self.datefmt),\n            \"name\": record.name,\n            \"level\": record.levelname,\n            \"message\": record.getMessage(),\n        }\n        if record.exc_info:\n            data[\"exc\"] = self.formatException(record.exc_info)\n        return json.dumps(data)\n\nif __name__ == \"__main__\":\n    log = get_logger(\"logger_setup_test\")\n    log.info(\"Logger self-test successful\")\n"
      ]
    },
    {
      "cell_type": "markdown",
      "metadata": {},
      "source": [
        "Repository manifest:"
      ]
    },
    {
      "cell_type": "markdown",
      "metadata": {},
      "source": [
        "<<<FILE: src/trading/live_ccxt.py >>>\\n",
        "\"\"\"Live CCXT wrapper. Reads CCXT_EXCHANGE, CCXT_API_KEY, CCXT_API_SECRET from env.\nProvides fetch_balance and create_order with safety checks (only if LIVE_MODE==True).\n\"\"\"\nimport os, ccxt, logging\nfrom ..config import LIVE_MODE, CCXT_EXCHANGE\nfrom ..logger_setup import get_logger\n\nlog = get_logger(__name__)\n\ndef get_live_exchange():\n    if not LIVE_MODE:\n        raise RuntimeError('LIVE_MODE is not enabled. Set LIVE_MODE=true in .env to enable live trading.')\n    api_key = os.getenv('CCXT_API_KEY') or os.getenv('EXCHANGE_API_KEY')\n    api_secret = os.getenv('CCXT_API_SECRET') or os.getenv('EXCHANGE_API_SECRET')\n    if not api_key or not api_secret:\n        raise RuntimeError('CCXT API keys not found in environment.')\n    exchange_id = CCXT_EXCHANGE\n    try:\n        ex_class = getattr(ccxt, exchange_id)\n    except Exception as e:\n        # try lowercase\n        ex_class = getattr(ccxt, exchange_id.lower())\n    exchange = ex_class({\n        'apiKey': api_key,\n        'secret': api_secret,\n        'enableRateLimit': True,\n    })\n    log.info('Initialized CCXT exchange: %s', exchange_id)\n    return exchange\n\nclass LiveExchange:\n    def __init__(self):\n        self.exchange = get_live_exchange()\n    def fetch_balance(self):\n        return self.exchange.fetch_balance()\n    def create_order(self, symbol, side, amount, price=None, order_type='limit'):\n        if not LIVE_MODE:\n            raise RuntimeError('Live orders disabled.')\n        if order_type == 'market':\n            order = self.exchange.create_market_order(symbol, side, amount)\n        else:\n            order = self.exchange.create_limit_order(symbol, side, amount, price)\n        log.info('Placed live order: %s', order)\n        return order\n\nif __name__ == '__main__':\n    try:\n        ex = LiveExchange()\n        print(ex.fetch_balance())\n    except Exception as e:\n        print('Live CCXT initialization error:', e)\n"
      ]
    },
    {
      "cell_type": "markdown",
      "metadata": {},
      "source": [
        "<<<FILE: src/llm/groq_client.py >>>\\n",
        "\"\"\"Groq LLM client wrapper. Uses GROQ_API_KEY from env to call Groq inference endpoints.\nIf GROQ_API_KEY is not present, falls back to deterministic template. Also supports OPENAI as fallback.\n\"\"\" \nimport os, requests, json\nfrom ..config import GROQ_API_KEY, OPENAI_API_KEY\nfrom ..logger_setup import get_logger\nlog = get_logger(__name__)\n\nGROQ_API_URL = os.getenv('GROQ_API_URL', 'https://api.groq.ai/v1')  # placeholder\n\ndef _call_groq(prompt, max_tokens=256):\n    if not GROQ_API_KEY:\n        raise RuntimeError('GROQ_API_KEY not set')\n    headers = {\n        'Authorization': f'Bearer {GROQ_API_KEY}',\n        'Content-Type': 'application/json'\n    }\n    payload = {\n        'prompt': prompt,\n        'max_tokens': max_tokens\n    }\n    # NOTE: This is a generic placeholder; adapt to actual Groq API shape.\n    resp = requests.post(f'{GROQ_API_URL}/generate', headers=headers, json=payload, timeout=10)\n    resp.raise_for_status()\n    data = resp.json()\n    # expecting {'text': '...'} or similar\n    text = data.get('text') or data.get('output') or json.dumps(data)\n    return text\n\ndef explain_signal(signal_type, context):\n    \"\"\"Return a human-readable explanation for an ML signal.\n    If GROQ_API_KEY provided, call Groq; if not, deterministic fallback.\n    \"\"\"\n    prompt = f\"Explain {signal_type} alert with context: {json.dumps(context)}. Provide concise actionable steps and risk level.\"\n    try:\n        if GROQ_API_KEY:\n            log.info('Calling Groq for LLM explanation.')\n            return _call_groq(prompt)\n        elif OPENAI_API_KEY:\n            # Placeholder for OpenAI integration\n            log.info('OPENAI_API_KEY present; OpenAI integration can be implemented here.')\n        # Fallback deterministic explanation\n        explanation = f\"[LLM Explanation - {signal_type}] Observed context: {context}. Confidence: medium. Recommended action: review and monitor.\"\n        return explanation\n    except Exception as e:\n        log.exception('LLM call failed, returning fallback explanation.')\n        return f\"[LLM-Fallback] Could not call LLM: {e}. Context: {context}\"\n"
      ]
    },
    {
      "cell_type": "markdown",
      "metadata": {},
      "source": [
        "<<<FILE: src/payments/stripe_live.py >>>\\n",
        "\"\"\"Stripe live provider integration. Requires STRIPE_API_KEY env var.\nProvides create_payment_intent and webhook verification functions.\n\"\"\"\nimport os\nfrom ..logger_setup import get_logger\nlog = get_logger(__name__)\n\ntry:\n    import stripe\nexcept Exception:\n    stripe = None\n\ndef init_stripe():\n    key = os.getenv('STRIPE_API_KEY') or os.getenv('STRIPE_SECRET_KEY')\n    if not key:\n        raise RuntimeError('STRIPE_API_KEY not set in env')\n    if not stripe:\n        raise RuntimeError('stripe library not installed')\n    stripe.api_key = key\n    return stripe\n\ndef create_payment_intent(amount_cents, currency='usd', metadata=None):\n    s = init_stripe()\n    intent = s.PaymentIntent.create(amount=amount_cents, currency=currency, metadata=metadata or {})\n    log.info('Created Stripe PaymentIntent %s', intent.id)\n    return intent\n\ndef verify_webhook(payload, sig_header, endpoint_secret):\n    s = init_stripe()\n    try:\n        event = s.Webhook.construct_event(payload, sig_header, endpoint_secret)\n        return event\n    except Exception as e:\n        log.exception('Stripe webhook verification failed.')\n        raise\n"
      ]
    },
    {
      "cell_type": "markdown",
      "metadata": {},
      "source": [
        "<<<FILE: src/web/admin_api.py >>>\\n",
        "\"\"\"FastAPI admin dashboard for AltTrade. Provides admin endpoints and webhook handlers.\nAdmin access is protected by ADMIN_TELEGRAM_IDS and an ADMIN_API_KEY env var for web access.\n\"\"\" \nimport os, json\nfrom fastapi import FastAPI, Request, HTTPException, Depends\nfrom fastapi.responses import JSONResponse\nfrom ..storage.db import init_db\nfrom ..config import ADMIN_TELEGRAM_IDS\nfrom ..logger_setup import get_logger\nfrom ..logger_advanced import audit_event\nfrom ..marketplace.market import list_items, approve_item\nfrom ..agents.manager import start_agent, stop_agent, AGENTS\n\nlog = get_logger(__name__)\napp = FastAPI()\nconn = init_db()\nADMIN_API_KEY = os.getenv('ADMIN_API_KEY', '')\n\ndef check_admin(api_key: str = None):\n    # allow admin via API key (for web) or via token param in headers\n    if ADMIN_API_KEY and api_key == ADMIN_API_KEY:\n        return True\n    raise HTTPException(status_code=403, detail='Forbidden')\n\n@app.get('/admin/users')\ndef get_users(api_key: str = None):\n    check_admin(api_key)\n    c = conn.cursor()\n    c.execute('SELECT telegram_id, username, created_at, is_premium FROM users')\n    rows = c.fetchall()\n    return {'users': rows}\n\n@app.post('/admin/marketplace/{item_id}/approve')\ndef approve_marketplace(item_id: int, api_key: str = None):\n    check_admin(api_key)\n    # perform approval\n    approve_item('web_admin', item_id)\n    audit_event('marketplace_approve', {'item_id': item_id}, telegram_id=None)\n    return {'status':'approved', 'item_id': item_id}\n\n@app.post('/admin/agent/start')\ndef api_start_agent(owner_id: int, symbol: str = 'BTC/USDT', interval: int = 5, api_key: str = None):\n    check_admin(api_key)\n    agent_id = start_agent(owner_id, symbol, interval)\n    return {'agent_id': agent_id}\n\n@app.post('/admin/agent/stop')\ndef api_stop_agent(agent_id: str, api_key: str = None):\n    check_admin(api_key)\n    ok = stop_agent(agent_id)\n    return {'stopped': ok}\n\n@app.post('/webhook/stripe')\nasync def stripe_webhook(request: Request):\n    payload = await request.body()\n    sig_header = request.headers.get('stripe-signature')\n    # For now, just log and return success\n    audit_event('stripe_webhook', {'headers': dict(request.headers)}, telegram_id=None)\n    return JSONResponse({'received': True})\n\n@app.post('/webhook/mpesa')\nasync def mpesa_webhook(request: Request):\n    data = await request.json()\n    audit_event('mpesa_webhook', data, telegram_id=None)\n    return JSONResponse({'received': True})\n"
      ]
    }
  ],
  "metadata": {
    "kernelspec": {
      "name": "python3",
      "display_name": "Python 3"
    },
    "language_info": {
      "name": "python"
    }
  },
  "nbformat": 4,
  "nbformat_minor": 5
}